{
  "nbformat": 4,
  "nbformat_minor": 0,
  "metadata": {
    "colab": {
      "provenance": [],
      "authorship_tag": "ABX9TyNlT8ByoXxRkKNwXUDnVMIR",
      "include_colab_link": true
    },
    "kernelspec": {
      "name": "python3",
      "display_name": "Python 3"
    },
    "language_info": {
      "name": "python"
    }
  },
  "cells": [
    {
      "cell_type": "markdown",
      "metadata": {
        "id": "view-in-github",
        "colab_type": "text"
      },
      "source": [
        "<a href=\"https://colab.research.google.com/github/kharinoctavian/Streamlit/blob/master/NAIVE%2CBAGGING%2CSMOTENC.ipynb\" target=\"_parent\"><img src=\"https://colab.research.google.com/assets/colab-badge.svg\" alt=\"Open In Colab\"/></a>"
      ]
    },
    {
      "cell_type": "code",
      "metadata": {
        "id": "Ysfx86qiT1-6"
      },
      "source": [
        "from sklearn.linear_model import LinearRegression\n",
        "from sklearn.naive_bayes import GaussianNB\n",
        "from sklearn.ensemble import BaggingClassifier,BaggingRegressor\n",
        "from sklearn.model_selection import cross_val_score"
      ],
      "execution_count": null,
      "outputs": []
    },
    {
      "cell_type": "code",
      "metadata": {
        "id": "GsqkWiUoUXds"
      },
      "source": [
        "import numpy as np\n",
        "import pandas as pd\n",
        "from sklearn.model_selection import train_test_split"
      ],
      "execution_count": null,
      "outputs": []
    },
    {
      "cell_type": "code",
      "metadata": {
        "colab": {
          "base_uri": "https://localhost:8080/"
        },
        "id": "K1xitQxlUNBe",
        "outputId": "c3220c73-1800-4fae-b7a5-f34438646618"
      },
      "source": [
        "data=pd.read_csv(r'DATA DELAY 14NOV.csv')\n",
        "data.head"
      ],
      "execution_count": null,
      "outputs": [
        {
          "output_type": "execute_result",
          "data": {
            "text/plain": [
              "<bound method NDFrame.head of     JENIS KAPAL   BD  INTERNAL DELAY  ...  PALKA  DERMAGA  DELAY\n",
              "0        DIRECT   54            0.95  ...      8        2      0\n",
              "1        DIRECT  101            1.78  ...      6        2      0\n",
              "2        DIRECT    0            0.58  ...     27        3      0\n",
              "3        DIRECT  130            5.50  ...      6        2      0\n",
              "4        DIRECT   55            4.53  ...     40        4      0\n",
              "..          ...  ...             ...  ...    ...      ...    ...\n",
              "119      DIRECT    0            0.57  ...      8        3      0\n",
              "120      DIRECT   41            0.77  ...     11        2      0\n",
              "121      FEEDER  164            3.18  ...     29        4      0\n",
              "122      DIRECT   47            0.85  ...      9        1      0\n",
              "123      DIRECT   23            0.38  ...     13        3      0\n",
              "\n",
              "[124 rows x 8 columns]>"
            ]
          },
          "metadata": {},
          "execution_count": 4
        }
      ]
    },
    {
      "cell_type": "code",
      "metadata": {
        "colab": {
          "base_uri": "https://localhost:8080/",
          "height": 180
        },
        "id": "RbMvimD3W5lm",
        "outputId": "60d20769-dc7b-47f1-8d17-26b76cc1942a"
      },
      "source": [
        "data['JENIS KAPAL'] = np.where(data['JENIS KAPAL'] == \"DIRECT\", 1, 0)\n",
        "data.head()"
      ],
      "execution_count": null,
      "outputs": [
        {
          "output_type": "error",
          "ename": "NameError",
          "evalue": "ignored",
          "traceback": [
            "\u001b[0;31m---------------------------------------------------------------------------\u001b[0m",
            "\u001b[0;31mNameError\u001b[0m                                 Traceback (most recent call last)",
            "\u001b[0;32m<ipython-input-3-23436fbbd498>\u001b[0m in \u001b[0;36m<module>\u001b[0;34m()\u001b[0m\n\u001b[0;32m----> 1\u001b[0;31m \u001b[0mdata\u001b[0m\u001b[0;34m[\u001b[0m\u001b[0;34m'JENIS KAPAL'\u001b[0m\u001b[0;34m]\u001b[0m \u001b[0;34m=\u001b[0m \u001b[0mnp\u001b[0m\u001b[0;34m.\u001b[0m\u001b[0mwhere\u001b[0m\u001b[0;34m(\u001b[0m\u001b[0mdata\u001b[0m\u001b[0;34m[\u001b[0m\u001b[0;34m'JENIS KAPAL'\u001b[0m\u001b[0;34m]\u001b[0m \u001b[0;34m==\u001b[0m \u001b[0;34m\"DIRECT\"\u001b[0m\u001b[0;34m,\u001b[0m \u001b[0;36m1\u001b[0m\u001b[0;34m,\u001b[0m \u001b[0;36m0\u001b[0m\u001b[0;34m)\u001b[0m\u001b[0;34m\u001b[0m\u001b[0;34m\u001b[0m\u001b[0m\n\u001b[0m\u001b[1;32m      2\u001b[0m \u001b[0mdata\u001b[0m\u001b[0;34m.\u001b[0m\u001b[0mhead\u001b[0m\u001b[0;34m(\u001b[0m\u001b[0;34m)\u001b[0m\u001b[0;34m\u001b[0m\u001b[0;34m\u001b[0m\u001b[0m\n",
            "\u001b[0;31mNameError\u001b[0m: name 'data' is not defined"
          ]
        }
      ]
    },
    {
      "cell_type": "code",
      "metadata": {
        "id": "ZBhDigJHUnXl"
      },
      "source": [
        "arr = data.values\n",
        "X = arr[:, 0:6]\n",
        "Y = arr[:, 7]"
      ],
      "execution_count": null,
      "outputs": []
    },
    {
      "cell_type": "code",
      "metadata": {
        "id": "yAWwVDyxV1Vk"
      },
      "source": [
        "X_train,X_test,Y_train,Y_test=train_test_split(X,Y,test_size=.3,random_state=0)"
      ],
      "execution_count": null,
      "outputs": []
    },
    {
      "cell_type": "code",
      "metadata": {
        "colab": {
          "base_uri": "https://localhost:8080/"
        },
        "id": "d-mq1DzLWFgw",
        "outputId": "197d84ca-8f2e-4b34-d3ca-3c0883a6b687"
      },
      "source": [
        "#NAIVE TANPA BAGGING\n",
        "from sklearn.metrics import accuracy_score\n",
        "model=GaussianNB()\n",
        "model.fit(X_train, Y_train)\n",
        "Y_pred=model.predict(X_test)\n",
        "accuracy_score(Y_test, Y_pred)"
      ],
      "execution_count": null,
      "outputs": [
        {
          "output_type": "execute_result",
          "data": {
            "text/plain": [
              "0.6052631578947368"
            ]
          },
          "metadata": {},
          "execution_count": 20
        }
      ]
    },
    {
      "cell_type": "code",
      "metadata": {
        "id": "HCfYzqkYXYZP"
      },
      "source": [
        "#BAGGING\n",
        "h=BaggingClassifier(GaussianNB(),n_estimators = 10, max_features = 0.5,random_state = 0)"
      ],
      "execution_count": null,
      "outputs": []
    },
    {
      "cell_type": "code",
      "metadata": {
        "colab": {
          "base_uri": "https://localhost:8080/"
        },
        "id": "Rcz5VgctXg2M",
        "outputId": "0dc96b7a-b329-4577-a68d-edb809412dea"
      },
      "source": [
        "#AKURASI BAGGING\n",
        "h.fit(X_train,Y_train)\n",
        "Y_pred=h.predict(X_test)\n",
        "accuracy_score(Y_test, Y_pred)"
      ],
      "execution_count": null,
      "outputs": [
        {
          "output_type": "execute_result",
          "data": {
            "text/plain": [
              "0.6842105263157895"
            ]
          },
          "metadata": {},
          "execution_count": 29
        }
      ]
    },
    {
      "cell_type": "code",
      "metadata": {
        "colab": {
          "base_uri": "https://localhost:8080/"
        },
        "id": "vHfTlaGLaRTg",
        "outputId": "50268479-766a-4a3e-cf59-76e6ee9ebaa1"
      },
      "source": [
        "data1=pd.read_csv(r'DATA DELAY 14NOVcategorik.csv')\n",
        "data1.head"
      ],
      "execution_count": null,
      "outputs": [
        {
          "output_type": "execute_result",
          "data": {
            "text/plain": [
              "<bound method NDFrame.head of     JENIS KAPAL  DERMAGA   BD  ...  SHIFTING YARD  PALKA  DELAY\n",
              "0        DIRECT        2   54  ...             30      8      0\n",
              "1        DIRECT        2  101  ...             10      6      0\n",
              "2        DIRECT        3    0  ...             61     27      0\n",
              "3        DIRECT        2  130  ...             18      6      0\n",
              "4        DIRECT        4   55  ...            146     40      0\n",
              "..          ...      ...  ...  ...            ...    ...    ...\n",
              "119      DIRECT        3    0  ...            124      8      0\n",
              "120      DIRECT        2   41  ...            117     11      0\n",
              "121      FEEDER        4  164  ...            165     29      0\n",
              "122      DIRECT        1   47  ...            160      9      0\n",
              "123      DIRECT        3   23  ...            132     13      0\n",
              "\n",
              "[124 rows x 8 columns]>"
            ]
          },
          "metadata": {},
          "execution_count": 5
        }
      ]
    },
    {
      "cell_type": "code",
      "metadata": {
        "colab": {
          "base_uri": "https://localhost:8080/",
          "height": 204
        },
        "id": "VjklRglmaZMc",
        "outputId": "ca54fecd-8d99-4b04-b007-b1c8c3fecfb0"
      },
      "source": [
        "data1['JENIS KAPAL'] = np.where(data1['JENIS KAPAL'] == \"DIRECT\", 1, 0)\n",
        "data1.head()"
      ],
      "execution_count": null,
      "outputs": [
        {
          "output_type": "execute_result",
          "data": {
            "text/html": [
              "<div>\n",
              "<style scoped>\n",
              "    .dataframe tbody tr th:only-of-type {\n",
              "        vertical-align: middle;\n",
              "    }\n",
              "\n",
              "    .dataframe tbody tr th {\n",
              "        vertical-align: top;\n",
              "    }\n",
              "\n",
              "    .dataframe thead th {\n",
              "        text-align: right;\n",
              "    }\n",
              "</style>\n",
              "<table border=\"1\" class=\"dataframe\">\n",
              "  <thead>\n",
              "    <tr style=\"text-align: right;\">\n",
              "      <th></th>\n",
              "      <th>JENIS KAPAL</th>\n",
              "      <th>DERMAGA</th>\n",
              "      <th>BD</th>\n",
              "      <th>INTERNAL DELAY</th>\n",
              "      <th>SHIFTING KAPAL</th>\n",
              "      <th>SHIFTING YARD</th>\n",
              "      <th>PALKA</th>\n",
              "      <th>DELAY</th>\n",
              "    </tr>\n",
              "  </thead>\n",
              "  <tbody>\n",
              "    <tr>\n",
              "      <th>0</th>\n",
              "      <td>1</td>\n",
              "      <td>2</td>\n",
              "      <td>54</td>\n",
              "      <td>0.95</td>\n",
              "      <td>3</td>\n",
              "      <td>30</td>\n",
              "      <td>8</td>\n",
              "      <td>0</td>\n",
              "    </tr>\n",
              "    <tr>\n",
              "      <th>1</th>\n",
              "      <td>1</td>\n",
              "      <td>2</td>\n",
              "      <td>101</td>\n",
              "      <td>1.78</td>\n",
              "      <td>2</td>\n",
              "      <td>10</td>\n",
              "      <td>6</td>\n",
              "      <td>0</td>\n",
              "    </tr>\n",
              "    <tr>\n",
              "      <th>2</th>\n",
              "      <td>1</td>\n",
              "      <td>3</td>\n",
              "      <td>0</td>\n",
              "      <td>0.58</td>\n",
              "      <td>2</td>\n",
              "      <td>61</td>\n",
              "      <td>27</td>\n",
              "      <td>0</td>\n",
              "    </tr>\n",
              "    <tr>\n",
              "      <th>3</th>\n",
              "      <td>1</td>\n",
              "      <td>2</td>\n",
              "      <td>130</td>\n",
              "      <td>5.50</td>\n",
              "      <td>1</td>\n",
              "      <td>18</td>\n",
              "      <td>6</td>\n",
              "      <td>0</td>\n",
              "    </tr>\n",
              "    <tr>\n",
              "      <th>4</th>\n",
              "      <td>1</td>\n",
              "      <td>4</td>\n",
              "      <td>55</td>\n",
              "      <td>4.53</td>\n",
              "      <td>4</td>\n",
              "      <td>146</td>\n",
              "      <td>40</td>\n",
              "      <td>0</td>\n",
              "    </tr>\n",
              "  </tbody>\n",
              "</table>\n",
              "</div>"
            ],
            "text/plain": [
              "   JENIS KAPAL  DERMAGA   BD  ...  SHIFTING YARD  PALKA  DELAY\n",
              "0            1        2   54  ...             30      8      0\n",
              "1            1        2  101  ...             10      6      0\n",
              "2            1        3    0  ...             61     27      0\n",
              "3            1        2  130  ...             18      6      0\n",
              "4            1        4   55  ...            146     40      0\n",
              "\n",
              "[5 rows x 8 columns]"
            ]
          },
          "metadata": {},
          "execution_count": 6
        }
      ]
    },
    {
      "cell_type": "code",
      "metadata": {
        "id": "-uWbfnwMrg4l"
      },
      "source": [
        "arr = data1.values\n",
        "X = arr[:, 0:6]\n",
        "Y = arr[:, 7]"
      ],
      "execution_count": null,
      "outputs": []
    },
    {
      "cell_type": "code",
      "metadata": {
        "id": "meNkMNOjri49"
      },
      "source": [
        "X_train,X_test,Y_train,Y_test=train_test_split(X,Y,test_size=.3,random_state=0)"
      ],
      "execution_count": null,
      "outputs": []
    },
    {
      "cell_type": "code",
      "metadata": {
        "colab": {
          "base_uri": "https://localhost:8080/"
        },
        "id": "Bbqq05uTrcJa",
        "outputId": "7fcd4a40-30c9-4a97-955b-d8cf1a3e9500"
      },
      "source": [
        "#NAIVE TANPA BAGGING\n",
        "from sklearn.metrics import accuracy_score\n",
        "model=GaussianNB()\n",
        "model.fit(X_train, Y_train)\n",
        "Y_pred=model.predict(X_test)\n",
        "cm=confusion_matrix(Y_test,Y_pred)\n",
        "print(cm)\n",
        "accuracy_score(Y_test, Y_pred)"
      ],
      "execution_count": null,
      "outputs": [
        {
          "output_type": "stream",
          "name": "stdout",
          "text": [
            "[[23  2]\n",
            " [11  2]]\n"
          ]
        },
        {
          "output_type": "execute_result",
          "data": {
            "text/plain": [
              "0.6578947368421053"
            ]
          },
          "metadata": {},
          "execution_count": 22
        }
      ]
    },
    {
      "cell_type": "code",
      "metadata": {
        "id": "CpQAaECvruNS"
      },
      "source": [
        "#BAGGING\n",
        "h=BaggingClassifier(GaussianNB(),n_estimators = 10, max_features = 0.5,random_state = 0)"
      ],
      "execution_count": null,
      "outputs": []
    },
    {
      "cell_type": "code",
      "metadata": {
        "colab": {
          "base_uri": "https://localhost:8080/"
        },
        "id": "UpH4urhTryEi",
        "outputId": "40d17de3-547c-410f-bb8e-45a4b9306dc8"
      },
      "source": [
        "#AKURASI BAGGING\n",
        "h.fit(X_train,Y_train)\n",
        "Y_pred=h.predict(X_test)\n",
        "cm=confusion_matrix(Y_test,Y_pred)\n",
        "print(cm)\n",
        "accuracy_score(Y_test, Y_pred)"
      ],
      "execution_count": null,
      "outputs": [
        {
          "output_type": "stream",
          "name": "stdout",
          "text": [
            "[[24  1]\n",
            " [11  2]]\n"
          ]
        },
        {
          "output_type": "execute_result",
          "data": {
            "text/plain": [
              "0.6842105263157895"
            ]
          },
          "metadata": {},
          "execution_count": 21
        }
      ]
    },
    {
      "cell_type": "code",
      "metadata": {
        "colab": {
          "base_uri": "https://localhost:8080/"
        },
        "id": "fpHfx1B-X_eY",
        "outputId": "9b62d226-043f-4a1d-e486-ddfc084d3161"
      },
      "source": [
        "#SMOTENC\n",
        "from imblearn.over_sampling import SMOTENC\n",
        "data1_index=[0, 1]\n",
        "data1_index\n",
        "smote_nc = SMOTENC(categorical_features=data1_index, random_state=0)\n",
        "X_resampled, Y_resampled = smote_nc.fit_resample(X, Y)"
      ],
      "execution_count": null,
      "outputs": [
        {
          "output_type": "stream",
          "name": "stderr",
          "text": [
            "/usr/local/lib/python3.7/dist-packages/sklearn/externals/six.py:31: FutureWarning: The module is deprecated in version 0.21 and will be removed in version 0.23 since we've dropped support for Python 2.7. Please rely on the official version of six (https://pypi.org/project/six/).\n",
            "  \"(https://pypi.org/project/six/).\", FutureWarning)\n",
            "/usr/local/lib/python3.7/dist-packages/sklearn/utils/deprecation.py:144: FutureWarning: The sklearn.neighbors.base module is  deprecated in version 0.22 and will be removed in version 0.24. The corresponding classes / functions should instead be imported from sklearn.neighbors. Anything that cannot be imported from sklearn.neighbors is now part of the private API.\n",
            "  warnings.warn(message, FutureWarning)\n",
            "/usr/local/lib/python3.7/dist-packages/sklearn/utils/deprecation.py:87: FutureWarning: Function safe_indexing is deprecated; safe_indexing is deprecated in version 0.22 and will be removed in version 0.24.\n",
            "  warnings.warn(msg, category=FutureWarning)\n",
            "/usr/local/lib/python3.7/dist-packages/sklearn/utils/deprecation.py:87: FutureWarning: Function safe_indexing is deprecated; safe_indexing is deprecated in version 0.22 and will be removed in version 0.24.\n",
            "  warnings.warn(msg, category=FutureWarning)\n"
          ]
        }
      ]
    },
    {
      "cell_type": "code",
      "metadata": {
        "id": "LuhGcWGTaocs"
      },
      "source": [
        "XS_train,XS_test,YS_train,YS_test=train_test_split(X_resampled, Y_resampled,test_size=.3,random_state=0)"
      ],
      "execution_count": null,
      "outputs": []
    },
    {
      "cell_type": "code",
      "metadata": {
        "colab": {
          "base_uri": "https://localhost:8080/"
        },
        "id": "42UFpq8JawoN",
        "outputId": "20a27269-cd99-4819-afd5-e3c7482d1379"
      },
      "source": [
        "#SMOTE NC NAIVE\n",
        "from sklearn.metrics import accuracy_score\n",
        "model=GaussianNB()\n",
        "model.fit(XS_train, YS_train)\n",
        "YS_pred=model.predict(XS_test)\n",
        "cm=confusion_matrix(YS_test,YS_pred)\n",
        "print(cm)\n",
        "accuracy_score(YS_test, YS_pred)"
      ],
      "execution_count": null,
      "outputs": [
        {
          "output_type": "stream",
          "name": "stdout",
          "text": [
            "[[23  6]\n",
            " [16  9]]\n"
          ]
        },
        {
          "output_type": "execute_result",
          "data": {
            "text/plain": [
              "0.5925925925925926"
            ]
          },
          "metadata": {},
          "execution_count": 24
        }
      ]
    },
    {
      "cell_type": "code",
      "metadata": {
        "colab": {
          "base_uri": "https://localhost:8080/"
        },
        "id": "gdjj_UAiwC0V",
        "outputId": "d1572ff1-b46d-4e5d-d6ff-9db044e0700f"
      },
      "source": [
        "from sklearn.linear_model import LogisticRegression\n",
        "log_reg=LogisticRegression()\n",
        "log_reg.fit(X_train,Y_train)"
      ],
      "execution_count": null,
      "outputs": [
        {
          "output_type": "stream",
          "name": "stderr",
          "text": [
            "/usr/local/lib/python3.7/dist-packages/sklearn/linear_model/_logistic.py:940: ConvergenceWarning: lbfgs failed to converge (status=1):\n",
            "STOP: TOTAL NO. of ITERATIONS REACHED LIMIT.\n",
            "\n",
            "Increase the number of iterations (max_iter) or scale the data as shown in:\n",
            "    https://scikit-learn.org/stable/modules/preprocessing.html\n",
            "Please also refer to the documentation for alternative solver options:\n",
            "    https://scikit-learn.org/stable/modules/linear_model.html#logistic-regression\n",
            "  extra_warning_msg=_LOGISTIC_SOLVER_CONVERGENCE_MSG)\n"
          ]
        },
        {
          "output_type": "execute_result",
          "data": {
            "text/plain": [
              "LogisticRegression(C=1.0, class_weight=None, dual=False, fit_intercept=True,\n",
              "                   intercept_scaling=1, l1_ratio=None, max_iter=100,\n",
              "                   multi_class='auto', n_jobs=None, penalty='l2',\n",
              "                   random_state=None, solver='lbfgs', tol=0.0001, verbose=0,\n",
              "                   warm_start=False)"
            ]
          },
          "metadata": {},
          "execution_count": 17
        }
      ]
    },
    {
      "cell_type": "code",
      "metadata": {
        "colab": {
          "base_uri": "https://localhost:8080/"
        },
        "id": "JXAYGYP2wNwt",
        "outputId": "c5d55d49-475a-411c-ef7d-50d739e1cabd"
      },
      "source": [
        "predictions=log_reg.predict(X_test)\n",
        "from sklearn.metrics import confusion_matrix\n",
        "cm=confusion_matrix(Y_test,predictions)\n",
        "print (cm)\n",
        "accuracy_score(Y_test, predictions)"
      ],
      "execution_count": null,
      "outputs": [
        {
          "output_type": "stream",
          "name": "stdout",
          "text": [
            "[[24  1]\n",
            " [11  2]]\n"
          ]
        },
        {
          "output_type": "execute_result",
          "data": {
            "text/plain": [
              "0.6842105263157895"
            ]
          },
          "metadata": {},
          "execution_count": 26
        }
      ]
    },
    {
      "cell_type": "code",
      "metadata": {
        "colab": {
          "base_uri": "https://localhost:8080/",
          "height": 1000
        },
        "id": "LdCWCy5ZxX3V",
        "outputId": "12b8bff4-0e5f-469f-a0c9-bc776e5ada47"
      },
      "source": [
        "ax = data1['DELAY'].value_counts().plot(kind='bar', figsize=(10, 6), fontsize=13, color='#087E8B')\n",
        "\n",
        "for i in ax.patches:\n",
        "    ax.text(i.get_x() + 0.19, i.get_height() + 700, str(round(i.get_height(), 2)), fontsize=15)"
      ],
      "execution_count": null,
      "outputs": [
        {
          "output_type": "display_data",
          "data": {
            "image/png": "[encoded data removed]",
            "text/plain": [
              "<Figure size 720x432 with 1 Axes>"
            ]
          },
          "metadata": {
            "needs_background": "light"
          }
        }
      ]
    },
    {
      "cell_type": "code",
      "metadata": {
        "colab": {
          "base_uri": "https://localhost:8080/",
          "height": 204
        },
        "id": "2ccT7WIUe4We",
        "outputId": "a1af77c1-9a45-43d0-fdd2-35f1cde26faa"
      },
      "source": [
        "from sklearn.preprocessing import MinMaxScaler\n",
        "\n",
        "# Scale only columns that have values greater than 1\n",
        "to_scale = [col for col in data1.columns if data1[col].max() > 1]\n",
        "mms = MinMaxScaler()\n",
        "scaled = mms.fit_transform(data1[to_scale])\n",
        "scaled = pd.DataFrame(scaled, columns=to_scale)\n",
        "\n",
        "# Replace original columns with scaled ones\n",
        "for col in scaled:\n",
        "    data1[col] = scaled[col]\n",
        "\n",
        "data1.head()"
      ],
      "execution_count": null,
      "outputs": [
        {
          "output_type": "execute_result",
          "data": {
            "text/html": [
              "<div>\n",
              "<style scoped>\n",
              "    .dataframe tbody tr th:only-of-type {\n",
              "        vertical-align: middle;\n",
              "    }\n",
              "\n",
              "    .dataframe tbody tr th {\n",
              "        vertical-align: top;\n",
              "    }\n",
              "\n",
              "    .dataframe thead th {\n",
              "        text-align: right;\n",
              "    }\n",
              "</style>\n",
              "<table border=\"1\" class=\"dataframe\">\n",
              "  <thead>\n",
              "    <tr style=\"text-align: right;\">\n",
              "      <th></th>\n",
              "      <th>JENIS KAPAL</th>\n",
              "      <th>DERMAGA</th>\n",
              "      <th>BD</th>\n",
              "      <th>INTERNAL DELAY</th>\n",
              "      <th>SHIFTING KAPAL</th>\n",
              "      <th>SHIFTING YARD</th>\n",
              "      <th>PALKA</th>\n",
              "      <th>DELAY</th>\n",
              "    </tr>\n",
              "  </thead>\n",
              "  <tbody>\n",
              "    <tr>\n",
              "      <th>0</th>\n",
              "      <td>1</td>\n",
              "      <td>0.333333</td>\n",
              "      <td>0.069677</td>\n",
              "      <td>0.059116</td>\n",
              "      <td>0.027778</td>\n",
              "      <td>0.065534</td>\n",
              "      <td>0.105263</td>\n",
              "      <td>0</td>\n",
              "    </tr>\n",
              "    <tr>\n",
              "      <th>1</th>\n",
              "      <td>1</td>\n",
              "      <td>0.333333</td>\n",
              "      <td>0.130323</td>\n",
              "      <td>0.110765</td>\n",
              "      <td>0.013889</td>\n",
              "      <td>0.016990</td>\n",
              "      <td>0.052632</td>\n",
              "      <td>0</td>\n",
              "    </tr>\n",
              "    <tr>\n",
              "      <th>2</th>\n",
              "      <td>1</td>\n",
              "      <td>0.666667</td>\n",
              "      <td>0.000000</td>\n",
              "      <td>0.036092</td>\n",
              "      <td>0.013889</td>\n",
              "      <td>0.140777</td>\n",
              "      <td>0.605263</td>\n",
              "      <td>0</td>\n",
              "    </tr>\n",
              "    <tr>\n",
              "      <th>3</th>\n",
              "      <td>1</td>\n",
              "      <td>0.333333</td>\n",
              "      <td>0.167742</td>\n",
              "      <td>0.342253</td>\n",
              "      <td>0.000000</td>\n",
              "      <td>0.036408</td>\n",
              "      <td>0.052632</td>\n",
              "      <td>0</td>\n",
              "    </tr>\n",
              "    <tr>\n",
              "      <th>4</th>\n",
              "      <td>1</td>\n",
              "      <td>1.000000</td>\n",
              "      <td>0.070968</td>\n",
              "      <td>0.281892</td>\n",
              "      <td>0.041667</td>\n",
              "      <td>0.347087</td>\n",
              "      <td>0.947368</td>\n",
              "      <td>0</td>\n",
              "    </tr>\n",
              "  </tbody>\n",
              "</table>\n",
              "</div>"
            ],
            "text/plain": [
              "   JENIS KAPAL   DERMAGA        BD  ...  SHIFTING YARD     PALKA  DELAY\n",
              "0            1  0.333333  0.069677  ...       0.065534  0.105263      0\n",
              "1            1  0.333333  0.130323  ...       0.016990  0.052632      0\n",
              "2            1  0.666667  0.000000  ...       0.140777  0.605263      0\n",
              "3            1  0.333333  0.167742  ...       0.036408  0.052632      0\n",
              "4            1  1.000000  0.070968  ...       0.347087  0.947368      0\n",
              "\n",
              "[5 rows x 8 columns]"
            ]
          },
          "metadata": {},
          "execution_count": 12
        }
      ]
    },
    {
      "cell_type": "code",
      "metadata": {
        "colab": {
          "base_uri": "https://localhost:8080/"
        },
        "id": "46BQTVX1h1ZB",
        "outputId": "940b647b-0eab-43eb-d5ff-957c003f25d0"
      },
      "source": [
        "from sklearn.model_selection import train_test_split\n",
        "\n",
        "X = data1.drop('DELAY', axis=1)\n",
        "y = data1['DELAY']\n",
        "\n",
        "X_train, X_test, y_train, y_test = train_test_split(\n",
        "    X, y, test_size=0.3, random_state=42\n",
        ")\n",
        "\n",
        "print(f'''% Positive class in Train = {np.round(y_train.value_counts(normalize=True)[1] * 100, 2)}\n",
        "% Positive class in Test  = {np.round(y_test.value_counts(normalize=True)[1] * 100, 2)}''')\n"
      ],
      "execution_count": null,
      "outputs": [
        {
          "output_type": "stream",
          "name": "stdout",
          "text": [
            "% Positive class in Train = 31.4\n",
            "% Positive class in Test  = 21.05\n"
          ]
        }
      ]
    },
    {
      "cell_type": "code",
      "metadata": {
        "colab": {
          "base_uri": "https://localhost:8080/"
        },
        "id": "b62jDs37iP2a",
        "outputId": "96158a16-6446-470f-fc5c-0673af3fde10"
      },
      "source": [
        "#RANDOM FOREST\n",
        "\n",
        "from sklearn.ensemble import RandomForestClassifier\n",
        "from sklearn.metrics import accuracy_score, recall_score, confusion_matrix\n",
        "\n",
        "# Train\n",
        "model = RandomForestClassifier(random_state=42)\n",
        "model.fit(X_train, y_train)\n",
        "preds = model.predict(X_test)\n",
        "\n",
        "# Evaluate\n",
        "print(f'Accuracy = {accuracy_score(y_test, preds):.2f}\\nRecall = {recall_score(y_test, preds):.2f}\\n')\n",
        "cm = confusion_matrix(y_test, preds)\n",
        "cm"
      ],
      "execution_count": null,
      "outputs": [
        {
          "output_type": "stream",
          "name": "stdout",
          "text": [
            "Accuracy = 0.76\n",
            "Recall = 0.38\n",
            "\n"
          ]
        },
        {
          "output_type": "execute_result",
          "data": {
            "text/plain": [
              "array([[26,  4],\n",
              "       [ 5,  3]])"
            ]
          },
          "metadata": {},
          "execution_count": 15
        }
      ]
    },
    {
      "cell_type": "code",
      "metadata": {
        "colab": {
          "base_uri": "https://localhost:8080/",
          "height": 319
        },
        "id": "UWQahRBSijb2",
        "outputId": "fcffa4c8-38e5-45ce-edf8-a453f945ea52"
      },
      "source": [
        "#SMOTE\n",
        "from imblearn.over_sampling import SMOTE\n",
        "\n",
        "sm = SMOTE(random_state=42)\n",
        "\n",
        "X_sm, y_sm = sm.fit_resample(X, y)\n",
        "\n",
        "print(f'''Shape of X before SMOTE: {X.shape}\n",
        "Shape of X after SMOTE: {X_sm.shape}''')\n",
        "\n",
        "print('\\nBalance of positive and negative classes (%):')\n",
        "y_sm.value_counts * 100"
      ],
      "execution_count": null,
      "outputs": [
        {
          "output_type": "stream",
          "name": "stdout",
          "text": [
            "Shape of X before SMOTE: (124, 7)\n",
            "Shape of X after SMOTE: (178, 7)\n",
            "\n",
            "Balance of positive and negative classes (%):\n"
          ]
        },
        {
          "output_type": "stream",
          "name": "stderr",
          "text": [
            "/usr/local/lib/python3.7/dist-packages/sklearn/utils/deprecation.py:87: FutureWarning: Function safe_indexing is deprecated; safe_indexing is deprecated in version 0.22 and will be removed in version 0.24.\n",
            "  warnings.warn(msg, category=FutureWarning)\n"
          ]
        },
        {
          "output_type": "error",
          "ename": "AttributeError",
          "evalue": "ignored",
          "traceback": [
            "\u001b[0;31m---------------------------------------------------------------------------\u001b[0m",
            "\u001b[0;31mAttributeError\u001b[0m                            Traceback (most recent call last)",
            "\u001b[0;32m<ipython-input-21-22d883d60ba7>\u001b[0m in \u001b[0;36m<module>\u001b[0;34m()\u001b[0m\n\u001b[1;32m     10\u001b[0m \u001b[0;34m\u001b[0m\u001b[0m\n\u001b[1;32m     11\u001b[0m \u001b[0mprint\u001b[0m\u001b[0;34m(\u001b[0m\u001b[0;34m'\\nBalance of positive and negative classes (%):'\u001b[0m\u001b[0;34m)\u001b[0m\u001b[0;34m\u001b[0m\u001b[0;34m\u001b[0m\u001b[0m\n\u001b[0;32m---> 12\u001b[0;31m \u001b[0my_sm\u001b[0m\u001b[0;34m.\u001b[0m\u001b[0mvalue_counts\u001b[0m \u001b[0;34m*\u001b[0m \u001b[0;36m100\u001b[0m\u001b[0;34m\u001b[0m\u001b[0;34m\u001b[0m\u001b[0m\n\u001b[0m",
            "\u001b[0;31mAttributeError\u001b[0m: 'numpy.ndarray' object has no attribute 'value_counts'"
          ]
        }
      ]
    },
    {
      "cell_type": "code",
      "metadata": {
        "colab": {
          "base_uri": "https://localhost:8080/",
          "height": 282
        },
        "id": "Vc5f7eOzjC4Z",
        "outputId": "8ce5a659-6442-479d-bae5-1f5c1491e43f"
      },
      "source": [
        "#RANDOM FOREST WITH SMOTE\n",
        "\n",
        "X_train, X_test, y_train, y_test = train_test_split(\n",
        "    X_sm, y_sm, test_size=0.25, random_state=42\n",
        ")\n",
        "\n",
        "model = RandomForestClassifier(random_state=42)\n",
        "model.fit(X_train, y_train)\n",
        "preds = model.predict(X_test)\n",
        "\n",
        "print(f'Accuracy = {accuracy_score(y_test, preds):.2f}\\nRecall = {recall_score(y_test, preds):.2f}\\n')\n",
        "cm = confusion_matrix(y_test, preds)\n",
        "plt.figure(figsize=(8, 6))\n",
        "plt.title('Confusion Matrix (with SMOTE)', size=16)\n",
        "sns.heatmap(cm, annot=True, cmap='Blues');\n"
      ],
      "execution_count": null,
      "outputs": [
        {
          "output_type": "stream",
          "name": "stdout",
          "text": [
            "Accuracy = 0.80\n",
            "Recall = 0.80\n",
            "\n"
          ]
        },
        {
          "output_type": "error",
          "ename": "NameError",
          "evalue": "ignored",
          "traceback": [
            "\u001b[0;31m---------------------------------------------------------------------------\u001b[0m",
            "\u001b[0;31mNameError\u001b[0m                                 Traceback (most recent call last)",
            "\u001b[0;32m<ipython-input-22-8c3c3f4828e5>\u001b[0m in \u001b[0;36m<module>\u001b[0;34m()\u001b[0m\n\u001b[1;32m      9\u001b[0m \u001b[0mprint\u001b[0m\u001b[0;34m(\u001b[0m\u001b[0;34mf'Accuracy = {accuracy_score(y_test, preds):.2f}\\nRecall = {recall_score(y_test, preds):.2f}\\n'\u001b[0m\u001b[0;34m)\u001b[0m\u001b[0;34m\u001b[0m\u001b[0;34m\u001b[0m\u001b[0m\n\u001b[1;32m     10\u001b[0m \u001b[0mcm\u001b[0m \u001b[0;34m=\u001b[0m \u001b[0mconfusion_matrix\u001b[0m\u001b[0;34m(\u001b[0m\u001b[0my_test\u001b[0m\u001b[0;34m,\u001b[0m \u001b[0mpreds\u001b[0m\u001b[0;34m)\u001b[0m\u001b[0;34m\u001b[0m\u001b[0;34m\u001b[0m\u001b[0m\n\u001b[0;32m---> 11\u001b[0;31m \u001b[0mplt\u001b[0m\u001b[0;34m.\u001b[0m\u001b[0mfigure\u001b[0m\u001b[0;34m(\u001b[0m\u001b[0mfigsize\u001b[0m\u001b[0;34m=\u001b[0m\u001b[0;34m(\u001b[0m\u001b[0;36m8\u001b[0m\u001b[0;34m,\u001b[0m \u001b[0;36m6\u001b[0m\u001b[0;34m)\u001b[0m\u001b[0;34m)\u001b[0m\u001b[0;34m\u001b[0m\u001b[0;34m\u001b[0m\u001b[0m\n\u001b[0m\u001b[1;32m     12\u001b[0m \u001b[0mplt\u001b[0m\u001b[0;34m.\u001b[0m\u001b[0mtitle\u001b[0m\u001b[0;34m(\u001b[0m\u001b[0;34m'Confusion Matrix (with SMOTE)'\u001b[0m\u001b[0;34m,\u001b[0m \u001b[0msize\u001b[0m\u001b[0;34m=\u001b[0m\u001b[0;36m16\u001b[0m\u001b[0;34m)\u001b[0m\u001b[0;34m\u001b[0m\u001b[0;34m\u001b[0m\u001b[0m\n\u001b[1;32m     13\u001b[0m \u001b[0msns\u001b[0m\u001b[0;34m.\u001b[0m\u001b[0mheatmap\u001b[0m\u001b[0;34m(\u001b[0m\u001b[0mcm\u001b[0m\u001b[0;34m,\u001b[0m \u001b[0mannot\u001b[0m\u001b[0;34m=\u001b[0m\u001b[0;32mTrue\u001b[0m\u001b[0;34m,\u001b[0m \u001b[0mcmap\u001b[0m\u001b[0;34m=\u001b[0m\u001b[0;34m'Blues'\u001b[0m\u001b[0;34m)\u001b[0m\u001b[0;34m;\u001b[0m\u001b[0;34m\u001b[0m\u001b[0;34m\u001b[0m\u001b[0m\n",
            "\u001b[0;31mNameError\u001b[0m: name 'plt' is not defined"
          ]
        }
      ]
    },
    {
      "cell_type": "code",
      "metadata": {
        "colab": {
          "base_uri": "https://localhost:8080/"
        },
        "id": "3yOG28iLmK-Q",
        "outputId": "7537ab27-b22d-449e-f052-a62001c390d1"
      },
      "source": [
        "from imblearn.over_sampling import SMOTENC\n",
        "data1_index=[0, 1]\n",
        "data1_index\n",
        "smote_nc = SMOTENC(categorical_features=data1_index, random_state=0)\n",
        "X_resampled, Y_resampled = smote_nc.fit_resample(X, Y)"
      ],
      "execution_count": null,
      "outputs": [
        {
          "output_type": "stream",
          "name": "stderr",
          "text": [
            "/usr/local/lib/python3.7/dist-packages/sklearn/utils/deprecation.py:87: FutureWarning: Function safe_indexing is deprecated; safe_indexing is deprecated in version 0.22 and will be removed in version 0.24.\n",
            "  warnings.warn(msg, category=FutureWarning)\n",
            "/usr/local/lib/python3.7/dist-packages/sklearn/utils/deprecation.py:87: FutureWarning: Function safe_indexing is deprecated; safe_indexing is deprecated in version 0.22 and will be removed in version 0.24.\n",
            "  warnings.warn(msg, category=FutureWarning)\n"
          ]
        }
      ]
    },
    {
      "cell_type": "code",
      "metadata": {
        "colab": {
          "base_uri": "https://localhost:8080/"
        },
        "id": "aLejTHr5mOdo",
        "outputId": "e0be4812-e396-40d2-c2e1-57325807b5ab"
      },
      "source": [
        "#RANDOM FOREST WITH SMOTENC\n",
        "\n",
        "X_train, X_test, y_train, y_test = train_test_split(\n",
        "    X_resampled, Y_resampled, test_size=0.25, random_state=42\n",
        ")\n",
        "\n",
        "model = RandomForestClassifier(random_state=42)\n",
        "model.fit(X_train, y_train)\n",
        "preds = model.predict(X_test)\n",
        "\n",
        "print(f'Accuracy = {accuracy_score(y_test, preds):.2f}\\nRecall = {recall_score(y_test, preds):.2f}\\n')\n",
        "cm = confusion_matrix(y_test, preds)\n",
        "cm\n"
      ],
      "execution_count": null,
      "outputs": [
        {
          "output_type": "stream",
          "name": "stdout",
          "text": [
            "Accuracy = 0.73\n",
            "Recall = 0.65\n",
            "\n"
          ]
        },
        {
          "output_type": "execute_result",
          "data": {
            "text/plain": [
              "array([[20,  5],\n",
              "       [ 7, 13]])"
            ]
          },
          "metadata": {},
          "execution_count": 33
        }
      ]
    },
    {
      "cell_type": "code",
      "metadata": {
        "colab": {
          "base_uri": "https://localhost:8080/"
        },
        "id": "iEgqjRYok-5r",
        "outputId": "28ca1031-5c22-4796-b05b-feb8dfc9804a"
      },
      "source": [
        "#NBC\n",
        "\n",
        "\n",
        "from sklearn.metrics import accuracy_score, recall_score, confusion_matrix\n",
        "\n",
        "# Train\n",
        "model=GaussianNB()\n",
        "model.fit(X_train, y_train)\n",
        "preds=model.predict(X_test)\n",
        "accuracy_score(y_test, preds)\n",
        "\n",
        "\n",
        "# Evaluate\n",
        "print(f'Accuracy = {accuracy_score(y_test, preds):.2f}\\nRecall = {recall_score(y_test, preds):.2f}\\n')\n",
        "cm = confusion_matrix(y_test, preds)\n",
        "cm"
      ],
      "execution_count": null,
      "outputs": [
        {
          "output_type": "stream",
          "name": "stdout",
          "text": [
            "Accuracy = 0.69\n",
            "Recall = 0.45\n",
            "\n"
          ]
        },
        {
          "output_type": "execute_result",
          "data": {
            "text/plain": [
              "array([[22,  3],\n",
              "       [11,  9]])"
            ]
          },
          "metadata": {},
          "execution_count": 26
        }
      ]
    },
    {
      "cell_type": "code",
      "metadata": {
        "colab": {
          "base_uri": "https://localhost:8080/"
        },
        "id": "-eh1EEmGltDE",
        "outputId": "248be29b-48fa-40a4-a408-b9f9ec7233bd"
      },
      "source": [
        "#SMOTE NBC\n",
        "\n",
        "Xsm_train, Xsm_test, ysm_train, ysm_test = train_test_split(\n",
        "    X_sm, y_sm, test_size=0.25, random_state=42\n",
        ")\n",
        "\n",
        "model = GaussianNB()\n",
        "model.fit(Xsm_train, ysm_train)\n",
        "preds = model.predict(Xsm_test)\n",
        "\n",
        "print(f'Accuracy = {accuracy_score(ysm_test, preds):.2f}\\nRecall = {recall_score(y_test, preds):.2f}\\n')\n",
        "cm = confusion_matrix(ysm_test, preds)\n",
        "cm\n"
      ],
      "execution_count": null,
      "outputs": [
        {
          "output_type": "stream",
          "name": "stdout",
          "text": [
            "Accuracy = 0.69\n",
            "Recall = 0.45\n",
            "\n"
          ]
        },
        {
          "output_type": "execute_result",
          "data": {
            "text/plain": [
              "array([[22,  3],\n",
              "       [11,  9]])"
            ]
          },
          "metadata": {},
          "execution_count": 30
        }
      ]
    }
  ]
}